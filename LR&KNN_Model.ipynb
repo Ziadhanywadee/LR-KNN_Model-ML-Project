{
 "cells": [
  {
   "cell_type": "code",
   "execution_count": 239,
   "metadata": {},
   "outputs": [],
   "source": [
    "# Import libraries\n",
    "\n",
    "import numpy as np\n",
    "import pandas as pd\n",
    "import matplotlib.pyplot as plt\n",
    "import seaborn as sns\n",
    "from sklearn.model_selection import train_test_split\n",
    "from sklearn.preprocessing import PolynomialFeatures,StandardScaler\n",
    "from sklearn.preprocessing import OneHotEncoder, OrdinalEncoder\n",
    "from sklearn.preprocessing import LabelEncoder\n",
    "\n",
    "from sklearn.impute import SimpleImputer\n",
    "from sklearn.preprocessing import OneHotEncoder\n",
    "from sklearn.compose import ColumnTransformer\n",
    "from sklearn.pipeline import Pipeline\n",
    "\n",
    "from sklearn.linear_model import LinearRegression,Ridge\n",
    "from sklearn.neighbors import KNeighborsRegressor\n",
    "from sklearn.metrics import mean_squared_error\n",
    "\n",
    "from sklearn.metrics import accuracy_score\n",
    "\n",
    "from sklearn.model_selection import cross_val_score\n"
   ]
  },
  {
   "attachments": {},
   "cell_type": "markdown",
   "metadata": {},
   "source": [
    "Read Dataset from CSV File"
   ]
  },
  {
   "cell_type": "code",
   "execution_count": 240,
   "metadata": {},
   "outputs": [],
   "source": [
    "df=pd.read_csv(r'D:\\\\Computer Science\\\\CS Level 3\\\\Projects\\\\ML\\\\archive\\\\Salary.csv')\n",
    "# test_data = pd.read_csv(r'test.csv')\n",
    "categorical_columns = df.select_dtypes(include=['object']).columns"
   ]
  },
  {
   "attachments": {},
   "cell_type": "markdown",
   "metadata": {},
   "source": [
    "Preproccessing "
   ]
  },
  {
   "cell_type": "code",
   "execution_count": 241,
   "metadata": {},
   "outputs": [
    {
     "data": {
      "text/html": [
       "<div>\n",
       "<style scoped>\n",
       "    .dataframe tbody tr th:only-of-type {\n",
       "        vertical-align: middle;\n",
       "    }\n",
       "\n",
       "    .dataframe tbody tr th {\n",
       "        vertical-align: top;\n",
       "    }\n",
       "\n",
       "    .dataframe thead th {\n",
       "        text-align: right;\n",
       "    }\n",
       "</style>\n",
       "<table border=\"1\" class=\"dataframe\">\n",
       "  <thead>\n",
       "    <tr style=\"text-align: right;\">\n",
       "      <th></th>\n",
       "      <th>Age</th>\n",
       "      <th>Gender</th>\n",
       "      <th>Education Level</th>\n",
       "      <th>Job Title</th>\n",
       "      <th>Years of Experience</th>\n",
       "      <th>Salary</th>\n",
       "      <th>Country</th>\n",
       "      <th>Race</th>\n",
       "      <th>Senior</th>\n",
       "    </tr>\n",
       "  </thead>\n",
       "  <tbody>\n",
       "    <tr>\n",
       "      <th>0</th>\n",
       "      <td>32.0</td>\n",
       "      <td>Male</td>\n",
       "      <td>1</td>\n",
       "      <td>Software Engineer</td>\n",
       "      <td>5.0</td>\n",
       "      <td>90000.0</td>\n",
       "      <td>UK</td>\n",
       "      <td>White</td>\n",
       "      <td>0</td>\n",
       "    </tr>\n",
       "    <tr>\n",
       "      <th>1</th>\n",
       "      <td>28.0</td>\n",
       "      <td>Female</td>\n",
       "      <td>2</td>\n",
       "      <td>Data Analyst</td>\n",
       "      <td>3.0</td>\n",
       "      <td>65000.0</td>\n",
       "      <td>USA</td>\n",
       "      <td>Hispanic</td>\n",
       "      <td>0</td>\n",
       "    </tr>\n",
       "    <tr>\n",
       "      <th>2</th>\n",
       "      <td>45.0</td>\n",
       "      <td>Male</td>\n",
       "      <td>3</td>\n",
       "      <td>Manager</td>\n",
       "      <td>15.0</td>\n",
       "      <td>150000.0</td>\n",
       "      <td>Canada</td>\n",
       "      <td>White</td>\n",
       "      <td>1</td>\n",
       "    </tr>\n",
       "    <tr>\n",
       "      <th>3</th>\n",
       "      <td>36.0</td>\n",
       "      <td>Female</td>\n",
       "      <td>1</td>\n",
       "      <td>Sales Associate</td>\n",
       "      <td>7.0</td>\n",
       "      <td>60000.0</td>\n",
       "      <td>USA</td>\n",
       "      <td>Hispanic</td>\n",
       "      <td>0</td>\n",
       "    </tr>\n",
       "    <tr>\n",
       "      <th>4</th>\n",
       "      <td>52.0</td>\n",
       "      <td>Male</td>\n",
       "      <td>2</td>\n",
       "      <td>Director</td>\n",
       "      <td>20.0</td>\n",
       "      <td>200000.0</td>\n",
       "      <td>USA</td>\n",
       "      <td>Asian</td>\n",
       "      <td>0</td>\n",
       "    </tr>\n",
       "  </tbody>\n",
       "</table>\n",
       "</div>"
      ],
      "text/plain": [
       "    Age  Gender  Education Level          Job Title  Years of Experience  \\\n",
       "0  32.0    Male                1  Software Engineer                  5.0   \n",
       "1  28.0  Female                2       Data Analyst                  3.0   \n",
       "2  45.0    Male                3            Manager                 15.0   \n",
       "3  36.0  Female                1    Sales Associate                  7.0   \n",
       "4  52.0    Male                2           Director                 20.0   \n",
       "\n",
       "     Salary Country      Race  Senior  \n",
       "0   90000.0      UK     White       0  \n",
       "1   65000.0     USA  Hispanic       0  \n",
       "2  150000.0  Canada     White       1  \n",
       "3   60000.0     USA  Hispanic       0  \n",
       "4  200000.0     USA     Asian       0  "
      ]
     },
     "execution_count": 241,
     "metadata": {},
     "output_type": "execute_result"
    }
   ],
   "source": [
    "df.head()"
   ]
  },
  {
   "cell_type": "code",
   "execution_count": 242,
   "metadata": {},
   "outputs": [],
   "source": [
    "df.dropna(inplace=True)"
   ]
  },
  {
   "cell_type": "code",
   "execution_count": 243,
   "metadata": {},
   "outputs": [
    {
     "name": "stdout",
     "output_type": "stream",
     "text": [
      "Series([], dtype: int64)\n"
     ]
    }
   ],
   "source": [
    "missing_values = df.isnull().sum()\n",
    "filtered_missing_values = missing_values[missing_values > 2]\n",
    "print(filtered_missing_values)"
   ]
  },
  {
   "cell_type": "code",
   "execution_count": 244,
   "metadata": {},
   "outputs": [
    {
     "data": {
      "text/plain": [
       "Age                    0\n",
       "Gender                 0\n",
       "Education Level        0\n",
       "Job Title              0\n",
       "Years of Experience    0\n",
       "Salary                 0\n",
       "Country                0\n",
       "Race                   0\n",
       "Senior                 0\n",
       "dtype: int64"
      ]
     },
     "execution_count": 244,
     "metadata": {},
     "output_type": "execute_result"
    }
   ],
   "source": [
    "df.isnull().sum()"
   ]
  },
  {
   "cell_type": "code",
   "execution_count": 245,
   "metadata": {},
   "outputs": [
    {
     "name": "stdout",
     "output_type": "stream",
     "text": [
      "<class 'pandas.core.frame.DataFrame'>\n",
      "RangeIndex: 6684 entries, 0 to 6683\n",
      "Data columns (total 9 columns):\n",
      " #   Column               Non-Null Count  Dtype  \n",
      "---  ------               --------------  -----  \n",
      " 0   Age                  6684 non-null   float64\n",
      " 1   Gender               6684 non-null   object \n",
      " 2   Education Level      6684 non-null   int64  \n",
      " 3   Job Title            6684 non-null   object \n",
      " 4   Years of Experience  6684 non-null   float64\n",
      " 5   Salary               6684 non-null   float64\n",
      " 6   Country              6684 non-null   object \n",
      " 7   Race                 6684 non-null   object \n",
      " 8   Senior               6684 non-null   int64  \n",
      "dtypes: float64(3), int64(2), object(4)\n",
      "memory usage: 470.1+ KB\n"
     ]
    }
   ],
   "source": [
    "df.info()"
   ]
  },
  {
   "cell_type": "code",
   "execution_count": 246,
   "metadata": {},
   "outputs": [
    {
     "data": {
      "text/plain": [
       "(6684, 9)"
      ]
     },
     "execution_count": 246,
     "metadata": {},
     "output_type": "execute_result"
    }
   ],
   "source": [
    "df.shape"
   ]
  },
  {
   "cell_type": "code",
   "execution_count": 247,
   "metadata": {},
   "outputs": [
    {
     "data": {
      "text/plain": [
       "<Axes: >"
      ]
     },
     "execution_count": 247,
     "metadata": {},
     "output_type": "execute_result"
    },
    {
     "data": {
      "image/png": "[encoded data removed]",
      "text/plain": [
       "<Figure size 640x480 with 1 Axes>"
      ]
     },
     "metadata": {},
     "output_type": "display_data"
    }
   ],
   "source": [
    "sns.heatmap(df.isnull(),yticklabels=False,cbar=False)"
   ]
  },
  {
   "cell_type": "code",
   "execution_count": 248,
   "metadata": {},
   "outputs": [
    {
     "name": "stderr",
     "output_type": "stream",
     "text": [
      "c:\\Users\\ziadh\\AppData\\Local\\Programs\\Python\\Python39\\lib\\site-packages\\seaborn\\_oldcore.py:1498: FutureWarning: is_categorical_dtype is deprecated and will be removed in a future version. Use isinstance(dtype, CategoricalDtype) instead\n",
      "  if pd.api.types.is_categorical_dtype(vector):\n",
      "c:\\Users\\ziadh\\AppData\\Local\\Programs\\Python\\Python39\\lib\\site-packages\\seaborn\\_oldcore.py:1498: FutureWarning: is_categorical_dtype is deprecated and will be removed in a future version. Use isinstance(dtype, CategoricalDtype) instead\n",
      "  if pd.api.types.is_categorical_dtype(vector):\n",
      "c:\\Users\\ziadh\\AppData\\Local\\Programs\\Python\\Python39\\lib\\site-packages\\seaborn\\_oldcore.py:1498: FutureWarning: is_categorical_dtype is deprecated and will be removed in a future version. Use isinstance(dtype, CategoricalDtype) instead\n",
      "  if pd.api.types.is_categorical_dtype(vector):\n"
     ]
    },
    {
     "data": {
      "image/png": "[encoded data removed]",
      "text/plain": [
       "<Figure size 1000x600 with 1 Axes>"
      ]
     },
     "metadata": {},
     "output_type": "display_data"
    }
   ],
   "source": [
    "# Calculate average salary for each job title\n",
    "average_salary_by_job = df.groupby('Job Title')['Salary'].mean().sort_values(ascending=False)\n",
    "\n",
    "# Select top 10 job titles with highest average salary\n",
    "top_10_jobs = average_salary_by_job[:10]\n",
    "\n",
    "# Plot the average salary for top 10 job titles\n",
    "plt.figure(figsize=(10, 6))\n",
    "sns.barplot(x=top_10_jobs.index, y=top_10_jobs.values, palette=\"viridis\")\n",
    "plt.title('Top 10 Job Titles with Highest Average Salary')\n",
    "plt.xlabel('Job Title')\n",
    "plt.ylabel('Average Salary')\n",
    "plt.xticks(rotation=90)\n",
    "plt.show()"
   ]
  },
  {
   "cell_type": "code",
   "execution_count": 249,
   "metadata": {},
   "outputs": [],
   "source": [
    "df['Years of Experience'] = df['Years of Experience'].replace(0, 1)"
   ]
  },
  {
   "cell_type": "code",
   "execution_count": 250,
   "metadata": {},
   "outputs": [],
   "source": [
    "# columns_to_encode = ['Gender', 'Education Level', 'Job Title', 'Country', 'Race', 'Senior']\n",
    "\n",
    "# # Label Encoding\n",
    "# label_encoder = LabelEncoder()\n",
    "# df[columns_to_encode] = df[columns_to_encode].apply(lambda col: label_encoder.fit_transform(col))\n",
    "# Define preprocessor without one-hot encoding 'Job Title'\n",
    "# Define preprocessor\n",
    "\n",
    "# preprocessor = ColumnTransformer(\n",
    "#     transformers=[\n",
    "#         ('num', 'passthrough', ['Years of Experience', 'Age']),\n",
    "#         ('cat', OneHotEncoder(drop='first'), ['Gender', 'Country', 'Race', 'Job Title']),\n",
    "#         ]\n",
    "# )\n",
    "\n",
    "# # Apply preprocessing to the dataset\n",
    "# preprocessor = ColumnTransformer(\n",
    "#     transformers=[\n",
    "#         ('num', 'passthrough', ['Years of Experience', 'Age']),\n",
    "#         ('cat', OneHotEncoder(drop='first'), ['Gender', 'Country', 'Race', 'Job Title']),\n",
    "#         ]\n",
    "# )\n",
    "\n",
    "# # Apply preprocessing to the dataset\n",
    "# df_preprocessed = preprocessor.fit_transform(df)\n",
    "\n",
    "# # The output is a numpy array, convert it back to dataframe\n",
    "# df_preprocessed = pd.DataFrame(df_preprocessed)\n",
    "\n",
    "# # Display the first few rows of the preprocessed dataframe\n",
    "# df_preprocessed.head()\n"
   ]
  },
  {
   "cell_type": "code",
   "execution_count": 251,
   "metadata": {},
   "outputs": [],
   "source": [
    "# preprocessor = ColumnTransformer(\n",
    "#     transformers=[\n",
    "#         ('num', 'passthrough', ['Years of Experience', 'Age', 'Salary']),\n",
    "#         ('cat', OneHotEncoder(drop='first'), ['Gender', 'Country', 'Race']),\n",
    "#     ], remainder='drop', sparse_threshold=0)\n",
    "\n",
    "# # Apply preprocessing to the dataset\n",
    "# df_preprocessed = preprocessor.fit_transform(df)\n",
    "\n",
    "# # Get feature names after one-hot encoding (excluding 'Job Title')\n",
    "# one_hot_feature_names = preprocessor.named_transformers_['cat'].get_feature_names_out(input_features=['Gender', 'Country', 'Race'])\n",
    "\n",
    "# # Get all feature names\n",
    "# feature_names = np.concatenate([one_hot_feature_names, ['Years of Experience', 'Age', 'Education Level', 'Salary']])\n",
    "\n",
    "# # Convert the numpy array to dataframe\n",
    "# df_preprocessed = pd.DataFrame(df_preprocessed, columns=feature_names)\n",
    "\n",
    "# # Append 'Job Title' column to the preprocessed dataframe\n",
    "# df_preprocessed['Job Title'] = df['Job Title']\n",
    "\n",
    "# # Display the first few rows of the preprocessed dataframe\n",
    "# df_preprocessed.head()\n"
   ]
  },
  {
   "cell_type": "code",
   "execution_count": 252,
   "metadata": {},
   "outputs": [
    {
     "data": {
      "text/html": [
       "<div>\n",
       "<style scoped>\n",
       "    .dataframe tbody tr th:only-of-type {\n",
       "        vertical-align: middle;\n",
       "    }\n",
       "\n",
       "    .dataframe tbody tr th {\n",
       "        vertical-align: top;\n",
       "    }\n",
       "\n",
       "    .dataframe thead th {\n",
       "        text-align: right;\n",
       "    }\n",
       "</style>\n",
       "<table border=\"1\" class=\"dataframe\">\n",
       "  <thead>\n",
       "    <tr style=\"text-align: right;\">\n",
       "      <th></th>\n",
       "      <th>Age</th>\n",
       "      <th>Gender</th>\n",
       "      <th>Education Level</th>\n",
       "      <th>Job Title</th>\n",
       "      <th>Years of Experience</th>\n",
       "      <th>Salary</th>\n",
       "      <th>Country</th>\n",
       "      <th>Race</th>\n",
       "      <th>Senior</th>\n",
       "    </tr>\n",
       "  </thead>\n",
       "  <tbody>\n",
       "    <tr>\n",
       "      <th>0</th>\n",
       "      <td>32.0</td>\n",
       "      <td>Male</td>\n",
       "      <td>1</td>\n",
       "      <td>Software Engineer</td>\n",
       "      <td>5.0</td>\n",
       "      <td>90000.0</td>\n",
       "      <td>UK</td>\n",
       "      <td>White</td>\n",
       "      <td>0</td>\n",
       "    </tr>\n",
       "    <tr>\n",
       "      <th>1</th>\n",
       "      <td>28.0</td>\n",
       "      <td>Female</td>\n",
       "      <td>2</td>\n",
       "      <td>Data Analyst</td>\n",
       "      <td>3.0</td>\n",
       "      <td>65000.0</td>\n",
       "      <td>USA</td>\n",
       "      <td>Hispanic</td>\n",
       "      <td>0</td>\n",
       "    </tr>\n",
       "    <tr>\n",
       "      <th>2</th>\n",
       "      <td>45.0</td>\n",
       "      <td>Male</td>\n",
       "      <td>3</td>\n",
       "      <td>Manager</td>\n",
       "      <td>15.0</td>\n",
       "      <td>150000.0</td>\n",
       "      <td>Canada</td>\n",
       "      <td>White</td>\n",
       "      <td>1</td>\n",
       "    </tr>\n",
       "    <tr>\n",
       "      <th>3</th>\n",
       "      <td>36.0</td>\n",
       "      <td>Female</td>\n",
       "      <td>1</td>\n",
       "      <td>Sales Associate</td>\n",
       "      <td>7.0</td>\n",
       "      <td>60000.0</td>\n",
       "      <td>USA</td>\n",
       "      <td>Hispanic</td>\n",
       "      <td>0</td>\n",
       "    </tr>\n",
       "    <tr>\n",
       "      <th>4</th>\n",
       "      <td>52.0</td>\n",
       "      <td>Male</td>\n",
       "      <td>2</td>\n",
       "      <td>Director</td>\n",
       "      <td>20.0</td>\n",
       "      <td>200000.0</td>\n",
       "      <td>USA</td>\n",
       "      <td>Asian</td>\n",
       "      <td>0</td>\n",
       "    </tr>\n",
       "  </tbody>\n",
       "</table>\n",
       "</div>"
      ],
      "text/plain": [
       "    Age  Gender  Education Level          Job Title  Years of Experience  \\\n",
       "0  32.0    Male                1  Software Engineer                  5.0   \n",
       "1  28.0  Female                2       Data Analyst                  3.0   \n",
       "2  45.0    Male                3            Manager                 15.0   \n",
       "3  36.0  Female                1    Sales Associate                  7.0   \n",
       "4  52.0    Male                2           Director                 20.0   \n",
       "\n",
       "     Salary Country      Race  Senior  \n",
       "0   90000.0      UK     White       0  \n",
       "1   65000.0     USA  Hispanic       0  \n",
       "2  150000.0  Canada     White       1  \n",
       "3   60000.0     USA  Hispanic       0  \n",
       "4  200000.0     USA     Asian       0  "
      ]
     },
     "execution_count": 252,
     "metadata": {},
     "output_type": "execute_result"
    }
   ],
   "source": [
    "df.head()"
   ]
  },
  {
   "cell_type": "code",
   "execution_count": 253,
   "metadata": {},
   "outputs": [
    {
     "name": "stdout",
     "output_type": "stream",
     "text": [
      "Series([], dtype: int64)\n"
     ]
    }
   ],
   "source": [
    "missing_values = df.isnull().sum()\n",
    "filtered_missing_values = missing_values[missing_values > 0]\n",
    "print(filtered_missing_values)"
   ]
  },
  {
   "attachments": {},
   "cell_type": "markdown",
   "metadata": {},
   "source": [
    "Feature Extraction"
   ]
  },
  {
   "cell_type": "code",
   "execution_count": 254,
   "metadata": {},
   "outputs": [],
   "source": [
    "# Example code\n",
    "df['SalaryPerExperience'] = df['Salary'] / df['Years of Experience']\n",
    "\n",
    "numeric_columns = ['Age', 'Education Level', 'Years of Experience', 'Salary', 'Senior']\n",
    "df[numeric_columns] = df[numeric_columns].apply(pd.to_numeric)\n"
   ]
  },
  {
   "attachments": {},
   "cell_type": "markdown",
   "metadata": {},
   "source": [
    "Features Extraction\n"
   ]
  },
  {
   "attachments": {},
   "cell_type": "markdown",
   "metadata": {},
   "source": [
    "Salary per Experience"
   ]
  },
  {
   "cell_type": "code",
   "execution_count": 255,
   "metadata": {},
   "outputs": [],
   "source": [
    "# Example code in Python using pandas\n",
    "bins = [0, 25, 40, 60, float('inf')]\n",
    "labels = ['1', '2', '3', '4']\n",
    "df['AgeGroup'] = pd.cut(df['Age'], bins=bins, labels=labels, right=False)"
   ]
  },
  {
   "cell_type": "code",
   "execution_count": 256,
   "metadata": {},
   "outputs": [],
   "source": [
    "#label_encoder = LabelEncoder()\n",
    "#df[categorical_columns] = df[categorical_columns].apply(lambda col: label_encoder.fit_transform(col))"
   ]
  },
  {
   "attachments": {},
   "cell_type": "markdown",
   "metadata": {},
   "source": [
    "Dataset Split to train and test "
   ]
  },
  {
   "cell_type": "code",
   "execution_count": 257,
   "metadata": {},
   "outputs": [],
   "source": [
    "df_encoded = pd.get_dummies(df, columns=categorical_columns,dtype=int)\n",
    "\n",
    "y_train = df_encoded['Salary']\n",
    "x_train = df_encoded.drop(['Salary'],axis=1)\n",
    "\n",
    "x_train, x_test, y_train, y_test = train_test_split(x_train, y_train,test_size=0.3,  random_state=42)\n"
   ]
  },
  {
   "attachments": {},
   "cell_type": "markdown",
   "metadata": {},
   "source": [
    "Linear Regression Model"
   ]
  },
  {
   "cell_type": "code",
   "execution_count": 258,
   "metadata": {},
   "outputs": [],
   "source": [
    "# #scaling the data using standard scaler\n",
    "# scaler=StandardScaler()\n",
    "# x_train_scaled=scaler.fit_transform(x_train)\n",
    "# x_test_scaled=scaler.transform(x_test)\n",
    "\n",
    "\n",
    "# # Create and train the model\n",
    "# model =  Ridge(alpha=0.5)\n",
    "# model.fit(x_train_scaled,y_train)\n",
    "\n",
    "\n",
    "# #copute scores\n",
    "# print('training accuracy ',model.score(x_train_scaled,y_train))\n",
    "# print('test accuracy',model.score(x_test_scaled,y_test))"
   ]
  },
  {
   "cell_type": "code",
   "execution_count": 259,
   "metadata": {},
   "outputs": [
    {
     "name": "stdout",
     "output_type": "stream",
     "text": [
      "training accuracy  0.8257612925471596\n",
      "test accuracy 0.8180172222769062\n"
     ]
    }
   ],
   "source": [
    "#scaling the data using standard scaler\n",
    "scaler=StandardScaler()\n",
    "x_train_scaled=scaler.fit_transform(x_train)\n",
    "x_test_scaled=scaler.transform(x_test)\n",
    "\n",
    "\n",
    "# Create and train the model\n",
    "model =  Ridge(alpha=0.5)\n",
    "model.fit(x_train_scaled,y_train)\n",
    "\n",
    "\n",
    "#copute scores\n",
    "print('training accuracy ',model.score(x_train_scaled,y_train))\n",
    "print('test accuracy',model.score(x_test_scaled,y_test))\n",
    "# Scatter plot with regression line\n"
   ]
  },
  {
   "cell_type": "code",
   "execution_count": null,
   "metadata": {},
   "outputs": [],
   "source": []
  },
  {
   "cell_type": "code",
   "execution_count": 260,
   "metadata": {},
   "outputs": [],
   "source": [
    "# import matplotlib.pyplot as plt\n",
    "# import numpy as np\n",
    "# from sklearn.linear_model import LinearRegression\n",
    "\n",
    "# model = LinearRegression()\n",
    "# model.fit(x_train, y_train)\n",
    "\n",
    "# # Scatter plot with regression line\n",
    "# plt.figure(figsize=(8, 6))\n",
    "# plt.scatter(x_train, y_train, alpha=0.7, label='Training Data')\n"
   ]
  },
  {
   "attachments": {},
   "cell_type": "markdown",
   "metadata": {},
   "source": [
    "KNN Model"
   ]
  },
  {
   "cell_type": "code",
   "execution_count": 261,
   "metadata": {},
   "outputs": [
    {
     "name": "stdout",
     "output_type": "stream",
     "text": [
      "training accuracy  0.7337998058131568\n",
      "test accuracy 0.7116226194519066\n"
     ]
    }
   ],
   "source": [
    "#scaling the data using standard scaler\n",
    "StandardScaler=StandardScaler()\n",
    "x_train_scaled=StandardScaler.fit_transform(x_train)\n",
    "x_test_scaled=StandardScaler.transform(x_test)\n",
    "\n",
    "\n",
    "# Create and train the model\n",
    "KNN_model = KNeighborsRegressor(n_neighbors=25)\n",
    "KNN_model.fit(x_train_scaled,y_train)\n",
    "\n",
    "\n",
    "#copute scores\n",
    "print('training accuracy ',KNN_model.score(x_train_scaled,y_train))\n",
    "print('test accuracy',KNN_model.score(x_test_scaled,y_test))"
   ]
  },
  {
   "attachments": {},
   "cell_type": "markdown",
   "metadata": {},
   "source": [
    "Create New dataset file  "
   ]
  },
  {
   "cell_type": "code",
   "execution_count": 262,
   "metadata": {},
   "outputs": [],
   "source": [
    "df.to_csv('formulatedtest.csv',index=False)"
   ]
  }
 ],
 "metadata": {
  "kernelspec": {
   "display_name": "Python 3 (ipykernel)",
   "language": "python",
   "name": "python3"
  },
  "language_info": {
   "codemirror_mode": {
    "name": "ipython",
    "version": 3
   },
   "file_extension": ".py",
   "mimetype": "text/x-python",
   "name": "python",
   "nbconvert_exporter": "python",
   "pygments_lexer": "ipython3",
   "version": "3.9.0"
  }
 },
 "nbformat": 4,
 "nbformat_minor": 2
}
